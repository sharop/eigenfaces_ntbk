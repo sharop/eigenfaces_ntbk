{
 "cells": [
  {
   "cell_type": "code",
   "execution_count": null,
   "metadata": {
    "collapsed": true
   },
   "outputs": [],
   "source": [
    "%matplotlib inline\n",
    "import io\n",
    "import os \n",
    "from os import path\n",
    "import base64\n",
    "from PIL import Image, ImageDraw\n",
    "import glob\n",
    "import numpy as np\n",
    "import matplotlib.pyplot as plt\n"
   ]
  },
  {
   "cell_type": "code",
   "execution_count": null,
   "metadata": {
    "collapsed": true
   },
   "outputs": [],
   "source": [
    "def drawImage(file):\n",
    "    image = ''\n",
    "    im = []\n",
    "    if type(file).__name__ == 'str':\n",
    "        image = Image.open(file).convert(\"L\")\n",
    "    else:\n",
    "        image = file\n",
    "        \n",
    "    if type(file).__name__ == 'ndarray':\n",
    "        im = file\n",
    "    else:\n",
    "        im = np.array(image, dtype=np.uint8)\n",
    "    \n",
    "    # Create figure and axes\n",
    "    fig,ax = plt.subplots(1)\n",
    "    \n",
    "    # Display the image\n",
    "    ax.imshow(im)\n",
    "    plt.show()\n",
    "    \n",
    "    return ax\n",
    "\n"
   ]
  },
  {
   "cell_type": "code",
   "execution_count": null,
   "metadata": {
    "collapsed": true
   },
   "outputs": [],
   "source": []
  },
  {
   "cell_type": "code",
   "execution_count": null,
   "metadata": {
    "collapsed": true
   },
   "outputs": [],
   "source": [
    "img_path = 'data/instructors/'\n",
    "filespatttern = '*'\n",
    "pathPattern = path.join(img_path,filespatttern)\n",
    "listFiles = glob.glob(pathPattern)"
   ]
  },
  {
   "cell_type": "code",
   "execution_count": null,
   "metadata": {
    "collapsed": true
   },
   "outputs": [],
   "source": [
    "S= np.array([ \n",
    "    (np.reshape(\n",
    "        np.array(Image.open(image).convert(\"L\").resize((300,300))\n",
    "                 )\n",
    "        , 300*300,'F')\n",
    "        ) \n",
    "    for image in listFiles])\n"
   ]
  },
  {
   "cell_type": "code",
   "execution_count": null,
   "metadata": {},
   "outputs": [],
   "source": [
    "S.shape #Fotosx Features  Matlab (N1*N2)x M"
   ]
  },
  {
   "cell_type": "markdown",
   "metadata": {},
   "source": [
    "### Computing eigenfaces"
   ]
  },
  {
   "cell_type": "markdown",
   "metadata": {},
   "source": [
    "1. Normalizing images"
   ]
  },
  {
   "cell_type": "code",
   "execution_count": null,
   "metadata": {
    "collapsed": true
   },
   "outputs": [],
   "source": [
    "ustd = 100\n",
    "um=80\n",
    "S= np.array([ (imagep-np.mean(imagep))*ustd/(np.std(imagep)+um)  for imagep in S]) "
   ]
  },
  {
   "cell_type": "markdown",
   "metadata": {},
   "source": [
    "1.1 Drawing normilized images"
   ]
  },
  {
   "cell_type": "code",
   "execution_count": null,
   "metadata": {
    "collapsed": true
   },
   "outputs": [],
   "source": [
    "#[drawImage(np.reshape(nImage,(300,300), 'F')) for nImage in S]\n"
   ]
  },
  {
   "cell_type": "markdown",
   "metadata": {},
   "source": [
    " 2 Compute Mean face from all the normalized faces."
   ]
  },
  {
   "cell_type": "code",
   "execution_count": null,
   "metadata": {
    "collapsed": true
   },
   "outputs": [],
   "source": [
    "m = np.mean(S,axis=0 ,dtype=np.uint8) #Calcula por columna\n",
    "imfMentT = np.transpose(np.reshape(m, (300,300),'F'))"
   ]
  },
  {
   "cell_type": "markdown",
   "metadata": {},
   "source": [
    "3 Draw mean face"
   ]
  },
  {
   "cell_type": "code",
   "execution_count": null,
   "metadata": {
    "collapsed": true
   },
   "outputs": [],
   "source": [
    "#[drawImage((np.reshape(nImage,(300,300), 'F'))-imgMenT ) for nImage in S]\n",
    "#9000x14 Matlab"
   ]
  },
  {
   "cell_type": "markdown",
   "metadata": {},
   "source": [
    "4 Compute eigenfaces"
   ]
  },
  {
   "cell_type": "code",
   "execution_count": null,
   "metadata": {
    "collapsed": true
   },
   "outputs": [],
   "source": [
    "dbx=np.array(S)  # en matlab es 9000x14\n",
    "A=np.array(S) "
   ]
  },
  {
   "cell_type": "code",
   "execution_count": null,
   "metadata": {
    "collapsed": true
   },
   "outputs": [],
   "source": [
    "#Covariance matrix C=A'A, L=AA'\n",
    "L = np.dot(A,A.transpose())  # 14x14"
   ]
  },
  {
   "cell_type": "code",
   "execution_count": null,
   "metadata": {
    "collapsed": true
   },
   "outputs": [],
   "source": []
  },
  {
   "cell_type": "code",
   "execution_count": null,
   "metadata": {
    "collapsed": true
   },
   "outputs": [],
   "source": [
    "dd, vv = np.linalg.eig(L)"
   ]
  },
  {
   "cell_type": "code",
   "execution_count": null,
   "metadata": {
    "collapsed": true
   },
   "outputs": [],
   "source": [
    "seival = sorted([(i,j) for i,j in enumerate(dd)],key=lambda l: l[1])\n",
    "d = np.array([val for idx,val in seival])\n",
    "v=np.array([vv[idx] for idx,val in seival])"
   ]
  },
  {
   "cell_type": "markdown",
   "metadata": {},
   "source": [
    "Normalization of eigenvectors"
   ]
  },
  {
   "cell_type": "code",
   "execution_count": null,
   "metadata": {
    "collapsed": true
   },
   "outputs": [],
   "source": [
    "v = np.array( [x/np.linalg.norm(x) for x in v])"
   ]
  },
  {
   "cell_type": "markdown",
   "metadata": {},
   "source": [
    "eigenvectors of C matrix"
   ]
  },
  {
   "cell_type": "code",
   "execution_count": null,
   "metadata": {
    "collapsed": true
   },
   "outputs": [],
   "source": [
    "dSq = [np.sqrt(val) for  val in d]"
   ]
  },
  {
   "cell_type": "code",
   "execution_count": null,
   "metadata": {},
   "outputs": [],
   "source": [
    "dbx.transpose().shape,v.shape"
   ]
  },
  {
   "cell_type": "code",
   "execution_count": null,
   "metadata": {
    "collapsed": true
   },
   "outputs": [],
   "source": [
    "u = [dbx.transpose().dot(v[idx])/np.sqrt(d[idx]) for idx in range(v.shape[0])]"
   ]
  },
  {
   "cell_type": "markdown",
   "metadata": {},
   "source": [
    "Normalization of eigenvector of the C matrix"
   ]
  },
  {
   "cell_type": "code",
   "execution_count": null,
   "metadata": {
    "collapsed": true
   },
   "outputs": [],
   "source": [
    "u = np.array([val/np.linalg.norm(val) for val in u])"
   ]
  },
  {
   "cell_type": "code",
   "execution_count": null,
   "metadata": {
    "collapsed": true
   },
   "outputs": [],
   "source": [
    "#[drawImage((np.reshape(nImage,(300,300), 'F'))) for nImage in u]"
   ]
  },
  {
   "cell_type": "markdown",
   "metadata": {},
   "source": [
    "Classifying New Faces"
   ]
  },
  {
   "cell_type": "code",
   "execution_count": null,
   "metadata": {
    "collapsed": true
   },
   "outputs": [],
   "source": [
    "#omega will store this information for the training set.\n",
    "omega=[]\n",
    "for h in range(dbx.shape[0]):\n",
    "    WW = []\n",
    "    for i in range(u.shape[0]):\n",
    "        t=u[i].transpose()\n",
    "        WeightOfImage = t.dot(dbx[h].transpose())\n",
    "        WW.append(WeightOfImage)\n",
    "    omega.append(WW)\n",
    "omega =np.array(omega)"
   ]
  },
  {
   "cell_type": "markdown",
   "metadata": {},
   "source": [
    "New image"
   ]
  },
  {
   "cell_type": "code",
   "execution_count": null,
   "metadata": {
    "collapsed": true
   },
   "outputs": [],
   "source": [
    "ima1 = '/data/instructors/foto3.png'\n",
    "imVect = np.reshape(np.array(Image.open(ima1).convert(\"L\").resize((300,300))), 300*300,'F')"
   ]
  },
  {
   "cell_type": "code",
   "execution_count": null,
   "metadata": {
    "collapsed": true
   },
   "outputs": [],
   "source": [
    "ustd = 100\n",
    "um=80\n",
    "NormImage=((imVect-np.mean(imVect))*ustd)/(np.std(imVect)+um)\n",
    "Difference = NormImage-m;"
   ]
  },
  {
   "cell_type": "code",
   "execution_count": null,
   "metadata": {
    "collapsed": true
   },
   "outputs": [],
   "source": [
    "p=[]\n",
    "for i in range(u.shape[0]):\n",
    "    pare = NormImage.dot(u[i])\n",
    "    p.append(pare)\n",
    "p=np.matrix(p).transpose() #14x1"
   ]
  },
  {
   "cell_type": "code",
   "execution_count": null,
   "metadata": {
    "collapsed": true
   },
   "outputs": [],
   "source": [
    "m=np.matrix(m.transpose()).transpose() #90000x1\n",
    "u=u.transpose() #90000x14"
   ]
  },
  {
   "cell_type": "code",
   "execution_count": null,
   "metadata": {
    "collapsed": true
   },
   "outputs": [],
   "source": [
    "#m is the mean image, u is the eigenvector\n",
    "ReshapedImage = m + u.dot(p)"
   ]
  },
  {
   "cell_type": "code",
   "execution_count": null,
   "metadata": {
    "collapsed": true
   },
   "outputs": [],
   "source": [
    "#drawImage((np.reshape(ReshapedImage,(300,300), 'F') ))"
   ]
  },
  {
   "cell_type": "code",
   "execution_count": null,
   "metadata": {
    "collapsed": true
   },
   "outputs": [],
   "source": [
    "InImWeight = []\n",
    "for i in range(u.shape[1]):\n",
    "    t=u[:,i].transpose()\n",
    "    WeightOfInputImage = t.dot(Difference.transpose())\n",
    "    InImWeight.append(WeightOfInputImage)\n",
    "\n",
    "InImWeight = np.array(InImWeight)"
   ]
  },
  {
   "cell_type": "code",
   "execution_count": null,
   "metadata": {
    "collapsed": true
   },
   "outputs": [],
   "source": [
    "#Find distance\n",
    "e=[]\n",
    "for i in range(omega.shape[0]):\n",
    "    q= omega[i]\n",
    "    DiffWeight = InImWeight -q\n",
    "    mag = np.linalg.norm(DiffWeight)\n",
    "    e.append(mag)"
   ]
  },
  {
   "cell_type": "code",
   "execution_count": null,
   "metadata": {
    "collapsed": true
   },
   "outputs": [],
   "source": [
    "idx, dist = min(enumerate(e),key=lambda x: x[1])"
   ]
  },
  {
   "cell_type": "code",
   "execution_count": null,
   "metadata": {},
   "outputs": [],
   "source": [
    "drawImage((np.reshape(S[idx],(300,300), 'F')) )"
   ]
  },
  {
   "cell_type": "code",
   "execution_count": null,
   "metadata": {},
   "outputs": [],
   "source": [
    "drawImage((np.reshape(imVect,(300,300), 'F')) )"
   ]
  },
  {
   "cell_type": "code",
   "execution_count": null,
   "metadata": {
    "collapsed": true
   },
   "outputs": [],
   "source": []
  },
  {
   "cell_type": "code",
   "execution_count": null,
   "metadata": {
    "collapsed": true
   },
   "outputs": [],
   "source": []
  }
 ],
 "metadata": {
  "kernelspec": {
   "display_name": "Python 3",
   "language": "python",
   "name": "python3"
  },
  "language_info": {
   "codemirror_mode": {
    "name": "ipython",
    "version": 3
   },
   "file_extension": ".py",
   "mimetype": "text/x-python",
   "name": "python",
   "nbconvert_exporter": "python",
   "pygments_lexer": "ipython3",
   "version": "3.5.3"
  }
 },
 "nbformat": 4,
 "nbformat_minor": 2
}
